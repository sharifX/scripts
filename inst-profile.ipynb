{
 "cells": [
  {
   "cell_type": "markdown",
   "metadata": {},
   "source": [
    "# Creating an institute profile \n",
    "\n",
    "Example of an institute profile using different data sources. Here, we are using ROR and GBIF data. "
   ]
  },
  {
   "cell_type": "code",
   "execution_count": 3,
   "metadata": {},
   "outputs": [],
   "source": [
    "import json \n",
    "import urllib.request as ur\n",
    "import requests\n",
    "from pygbif import registry\n",
    "from IPython.display import Markdown as md"
   ]
  },
  {
   "cell_type": "code",
   "execution_count": 114,
   "metadata": {},
   "outputs": [
    {
     "data": {
      "text/markdown": [
       "<b>"
      ],
      "text/plain": [
       "<IPython.core.display.Markdown object>"
      ]
     },
     "execution_count": 114,
     "metadata": {},
     "output_type": "execute_result"
    }
   ],
   "source": [
    "rorurl = \"https://api.ror.org/organizations/https://ror.org/052d1a351\"\n",
    "response = ur.urlopen(rorurl)\n",
    "data = json.loads(response.read())\n",
    "#print(data)\n",
    "name = data['name']\n",
    "rorid = data['id']\n",
    "links = data['links']\n",
    "aliases = data['aliases']\n",
    "grid  = data['external_ids']['GRID']['preferred']\n",
    "wikidata  = data['external_ids']['Wikidata']['all'][0]"
   ]
  },
  {
   "cell_type": "markdown",
   "metadata": {},
   "source": [
    "# PROFILE"
   ]
  },
  {
   "cell_type": "code",
   "execution_count": 149,
   "metadata": {},
   "outputs": [
    {
     "data": {
      "text/markdown": [
       "<b> Museum Name: Museum für Naturkunde"
      ],
      "text/plain": [
       "<IPython.core.display.Markdown object>"
      ]
     },
     "execution_count": 149,
     "metadata": {},
     "output_type": "execute_result"
    }
   ],
   "source": [
    "md(\"<b> Museum Name: {}\".format(name))"
   ]
  },
  {
   "cell_type": "code",
   "execution_count": 135,
   "metadata": {},
   "outputs": [
    {
     "data": {
      "text/markdown": [
       "<b> ROR ID: https://ror.org/052d1a351"
      ],
      "text/plain": [
       "<IPython.core.display.Markdown object>"
      ]
     },
     "execution_count": 135,
     "metadata": {},
     "output_type": "execute_result"
    }
   ],
   "source": [
    "md(\"<b> ROR ID: {}\".format(rorid))"
   ]
  },
  {
   "cell_type": "code",
   "execution_count": 136,
   "metadata": {},
   "outputs": [
    {
     "data": {
      "text/markdown": [
       "<b> Museum Link: http://www.naturkundemuseum-berlin.de/en/"
      ],
      "text/plain": [
       "<IPython.core.display.Markdown object>"
      ]
     },
     "execution_count": 136,
     "metadata": {},
     "output_type": "execute_result"
    }
   ],
   "source": [
    "md(\"<b> Museum Link: {}\".format(links[0]))"
   ]
  },
  {
   "cell_type": "markdown",
   "metadata": {},
   "source": [
    "The GBIF example uses the dataset API and scopes it using the museum as the publisher of the dataset. Even though this is not collection description data, it illustrates the power of API and standards. "
   ]
  },
  {
   "cell_type": "code",
   "execution_count": 141,
   "metadata": {},
   "outputs": [
    {
     "data": {
      "text/markdown": [
       "<b> Collection Name  and Count"
      ],
      "text/plain": [
       "<IPython.core.display.Markdown object>"
      ]
     },
     "execution_count": 141,
     "metadata": {},
     "output_type": "execute_result"
    }
   ],
   "source": [
    "md(\"<b> Collection Name  and Count\")"
   ]
  },
  {
   "cell_type": "code",
   "execution_count": 148,
   "metadata": {},
   "outputs": [
    {
     "name": "stdout",
     "output_type": "stream",
     "text": [
      "Neptune Deep-Sea Microfossil Occurrence Database  500808\n",
      "MfN - Heteroptera Collection  103178\n",
      "MfN - Fossil vertebrates IV  77414\n",
      "Sphaeroceridae Collection  47499\n",
      "MfN - Fossil invertebrates Ia  36845\n",
      "Animal Sound Archive  35322\n",
      "EDIT - ATBI in Mercantour/Alpi Marittime (France/Italy)  31680\n",
      "MfN - Fossil invertebrates III  23319\n",
      "MfN - Fossil Fish Collection  22516\n",
      "MfN - Auchenorrhyncha Collection  17369\n",
      "MfN - Fossil plants (Cenophytic)  16479\n",
      "Anymals+plants - Citizen Science Data  15278\n",
      "MfN - Fossil invertebrates IIb  14660\n",
      "MfN - Fossil plants (Paleophytic)  13945\n",
      "MfN - Mallophaga Collection  13736\n",
      "SuLaMa bird occurence data  9210\n",
      "EDIT - ATBI in Gemer area (Slovakia)  9140\n",
      "MfN - Fossil plants (Mesophytic)  8532\n",
      "MfN - Fossil vertebrates III  7346\n",
      "Staatliches Naturhistorisches Museum Braunschweig - Coleoptera Collection  6821\n",
      "Geologisch-Paläontologische Sammlung Universität Leipzig  5787\n",
      "MfN - Fossil vertebrates V  4310\n",
      "MfN - Phasmid Collection  3989\n",
      "MfN - Diptera Collection  2970\n",
      "MfN Fish Collection, Zoology  1701\n",
      "MfN - Trace fossils  1649\n",
      "EDIT - ATBI in Spreewald (Germany)  1470\n",
      "Global Butterfly Information System (GloBIS)  1082\n",
      "EDIT - ATBI in Borjomi/Kharagauli (Georgia)  561\n",
      "MfN - Isoptera Collection  470\n",
      "SuLaMa reptile survey I 2012  411\n",
      "SuLaMa reptile survey 2013  291\n",
      "MfN - Fossil invertebrates IIa  278\n",
      "Entomological specimens of Museum fuer Naturkunde und Vorgeschichte Dessau  277\n",
      "SuLaMa reptile survey II 2012  260\n",
      "MfN - Fossil vertebrates I  142\n",
      "SuLaMa plant monitoring  116\n",
      "SuLaMa Microcebus griseorufus occurence data  98\n",
      "SuLaMa reptile monitoring  74\n",
      "SuLaMa yam occurence data  63\n",
      "SuLaMa Amblyomma chabaudi occurence data  56\n",
      "MfN - Fossil invertebrates Ib  44\n",
      "SuLaMa Galidictis grandidieri occurence data  40\n",
      "SuLaMa blind cave fish occurence data  16\n",
      "MfN - Fossil plants II  12\n",
      "MfN - Micropaleontology  4\n",
      "MfN - Fossil vertebrates II  4\n",
      "MfN - Glacial erratics  2\n"
     ]
    }
   ],
   "source": [
    "#https://www.gbif.org/dataset/search?publishing_org=10980920-6dad-11da-ad13-b8a03c50a862\n",
    "# Museum für Naturkunde Berlin\n",
    "jsondump=registry.dataset_search(publishing_org='10980920-6dad-11da-ad13-b8a03c50a862')\n",
    "gbifresult=jsondump['results']\n",
    "sum = 0\n",
    "#print(gbifresult)\n",
    "for i in gbifresult: \n",
    "    \n",
    "    print(i['title']+ \"  \" + str(i['recordCount']))\n",
    "    sum = i['recordCount'] + sum "
   ]
  },
  {
   "cell_type": "code",
   "execution_count": 147,
   "metadata": {},
   "outputs": [
    {
     "data": {
      "text/markdown": [
       "<b>Total Specimens 1037274"
      ],
      "text/plain": [
       "<IPython.core.display.Markdown object>"
      ]
     },
     "execution_count": 147,
     "metadata": {},
     "output_type": "execute_result"
    }
   ],
   "source": [
    "md(\"<b>Total Specimens {}\".format(sum))"
   ]
  },
  {
   "cell_type": "markdown",
   "metadata": {},
   "source": [
    "At the moment we do not have an API to extract facilities and instrument information but this above\n",
    "profile can be enhanced. Example (based on a test Cordra DO repository) "
   ]
  },
  {
   "cell_type": "code",
   "execution_count": 162,
   "metadata": {},
   "outputs": [],
   "source": [
    "#http://145.136.243.81:8080/objects/test/1980ff87b86230db8258\n",
    "\n",
    "instr = \"http://145.136.243.81:8080/objects/test/1980ff87b86230db8258\"\n",
    "response1 = ur.urlopen(instr)\n",
    "data1 = json.loads(response1.read())\n",
    "#print(data1)\n",
    "instrumentName=data1['name']\n",
    "instrumentDesc=data1['description']"
   ]
  },
  {
   "cell_type": "markdown",
   "metadata": {},
   "source": [
    "## Faclities Information"
   ]
  },
  {
   "cell_type": "code",
   "execution_count": 154,
   "metadata": {},
   "outputs": [
    {
     "data": {
      "text/markdown": [
       "<b> Name: Museum für Naturkunde"
      ],
      "text/plain": [
       "<IPython.core.display.Markdown object>"
      ]
     },
     "execution_count": 154,
     "metadata": {},
     "output_type": "execute_result"
    }
   ],
   "source": [
    "md(\"<b> Museum Name: {}\".format(name))"
   ]
  },
  {
   "cell_type": "code",
   "execution_count": 157,
   "metadata": {},
   "outputs": [
    {
     "data": {
      "text/markdown": [
       "<b> Instrument Name: Scanning Electron Microscope"
      ],
      "text/plain": [
       "<IPython.core.display.Markdown object>"
      ]
     },
     "execution_count": 157,
     "metadata": {},
     "output_type": "execute_result"
    }
   ],
   "source": [
    "md(\"<b> Instrument Name: {}\".format(instrumentName))"
   ]
  },
  {
   "cell_type": "code",
   "execution_count": 164,
   "metadata": {},
   "outputs": [
    {
     "data": {
      "text/markdown": [
       "<b> Instrument Description: FEI XL 30 ESEM. The new apparatus has a number of advantages, such as the possibility to work in wet mode and to record digitised images on floppy disks or CD ROM.\n"
      ],
      "text/plain": [
       "<IPython.core.display.Markdown object>"
      ]
     },
     "execution_count": 164,
     "metadata": {},
     "output_type": "execute_result"
    }
   ],
   "source": [
    "md(\"<b> Instrument Description: {}\".format(instrumentDesc))"
   ]
  },
  {
   "cell_type": "markdown",
   "metadata": {},
   "source": [
    "# Collection Summary \n",
    "Another schema (as Digital Object) \n",
    "Overview information about a collection and the organization holding it. "
   ]
  },
  {
   "cell_type": "code",
   "execution_count": 43,
   "metadata": {},
   "outputs": [
    {
     "name": "stdout",
     "output_type": "stream",
     "text": [
      "PRINT ONE RECORD\n",
      "++++++++++++++++\n",
      "{\n",
      "  \"id\": \"test/fa4522c39fb8c0358231\",\n",
      "  \"type\": \"CollectionSummary\",\n",
      "  \"content\": {\n",
      "    \"id\": \"test/fa4522c39fb8c0358231\",\n",
      "    \"name\": \"Museum fur Naturkunde\",\n",
      "    \"abbv\": \"MfN\",\n",
      "    \"grid\": \"https://www.grid.ac/institutes/grid.422371.1\",\n",
      "    \"cetaf\": \"https://cetaf.org/berlin-natural-history-museum-0\",\n",
      "    \"total_specimens_all_coll\": 26351989,\n",
      "    \"dnabank\": \"yes\",\n",
      "    \"seedbank\": \"no\"\n",
      "  },\n",
      "  \"metadata\": {\n",
      "    \"createdOn\": 1586209829913,\n",
      "    \"createdBy\": \"admin\",\n",
      "    \"modifiedOn\": 1586209829913,\n",
      "    \"modifiedBy\": \"admin\",\n",
      "    \"txnId\": 1586209829913175\n",
      "  }\n",
      "}\n",
      "++++++++++++++++\n",
      "++++++++++++++++\n",
      "NAME                           Total Count DNA-Bank        SEED-Bank\n",
      "Natural History Museum London  74460377   no              no\n",
      "Naturhistorisches Museum Wien  28247450   yes              yes\n",
      "Agentschap Plantentuin Meise  3800000   no              yes\n",
      "Royal Belgian Institute of Natural Sciences  30650000   no              no\n",
      "Museum fur Naturkunde  26351989   yes              no\n"
     ]
    }
   ],
   "source": [
    "collsummary = \"http://145.136.243.81:8080/objects/?query=type:%22CollectionSummary%22\"\n",
    "response2 = ur.urlopen(collsummary)\n",
    "\n",
    "data2 = json.loads(response2.read())\n",
    "\n",
    "print(\"PRINT ONE RECORD\")\n",
    "print(\"++++++++++++++++\")\n",
    "print(json.dumps(data2['results'][4], indent=2))\n",
    "\n",
    "print(\"++++++++++++++++\")\n",
    "print(\"++++++++++++++++\")\n",
    "\n",
    "print(\"NAME       \" + \"                    Total Count\"    + \" DNA-Bank    \" + \"    SEED-Bank\")\n",
    "collsumresult = data2['results']\n",
    "for j in collsumresult: \n",
    "    \n",
    "    print(j['content']['name'] + \"  \" + str(j['content']['total_specimens_all_coll']) + \"   \" +j['content']['dnabank']\\\n",
    "    + \"              \" + j['content']['seedbank'])\n",
    "    "
   ]
  }
 ],
 "metadata": {
  "kernelspec": {
   "display_name": "Python 3",
   "language": "python",
   "name": "python3"
  },
  "language_info": {
   "codemirror_mode": {
    "name": "ipython",
    "version": 3
   },
   "file_extension": ".py",
   "mimetype": "text/x-python",
   "name": "python",
   "nbconvert_exporter": "python",
   "pygments_lexer": "ipython3",
   "version": "3.7.1"
  }
 },
 "nbformat": 4,
 "nbformat_minor": 2
}
