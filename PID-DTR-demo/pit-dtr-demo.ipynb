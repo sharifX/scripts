{
 "cells": [
  {
   "cell_type": "code",
   "execution_count": 13,
   "metadata": {},
   "outputs": [],
   "source": [
    "# import functions from https://gitlab.gwdg.de/uschwar1/PIT-DTR-Type-Verification\n",
    "import PIDclient_p3\n",
    "import PITclient_p3\n",
    "import json\n",
    "from IPython.display import Markdown as md\n"
   ]
  },
  {
   "cell_type": "code",
   "execution_count": 5,
   "metadata": {},
   "outputs": [
    {
     "data": {
      "text/markdown": [
       "<h2> A quick demo for using minimal metadata and PID Type"
      ],
      "text/plain": [
       "<IPython.core.display.Markdown object>"
      ]
     },
     "execution_count": 5,
     "metadata": {},
     "output_type": "execute_result"
    }
   ],
   "source": [
    "md(\"<h2> A quick demo for checking minimal metadata and PID Type\")"
   ]
  },
  {
   "cell_type": "code",
   "execution_count": 7,
   "metadata": {},
   "outputs": [
    {
     "data": {
      "text/markdown": [
       "Given a list of PIDs -- imagine thoudsands of these -- check if the PID in question is a Type or has a certain Type"
      ],
      "text/plain": [
       "<IPython.core.display.Markdown object>"
      ]
     },
     "execution_count": 7,
     "metadata": {},
     "output_type": "execute_result"
    }
   ],
   "source": [
    "md(\"Given a list of PIDs -- imagine thoudsands of these -- check if the PID in question is a Type or has a certain Type\")"
   ]
  },
  {
   "cell_type": "code",
   "execution_count": 8,
   "metadata": {},
   "outputs": [],
   "source": [
    "example_pid_list = [\"11022/0000-0001-30FC-D\", \"11022/0000-0001-30FE-B\", \"21.11115/0000-000C-2995-E\", \"21.14100/223fc64c-9090-3d01-9268-428e1031d214\"]"
   ]
  },
  {
   "cell_type": "code",
   "execution_count": 9,
   "metadata": {},
   "outputs": [],
   "source": [
    "example_typeID = \"21.T11148/21c5a7eba95c2e8f8bb8\""
   ]
  },
  {
   "cell_type": "code",
   "execution_count": 10,
   "metadata": {},
   "outputs": [
    {
     "name": "stdout",
     "output_type": "stream",
     "text": [
      "Example TypeID 21.T11148/21c5a7eba95c2e8f8bb8 is Mandatory-Properties-DataCite\n"
     ]
    }
   ],
   "source": [
    "print(\"Example TypeID \" + example_typeID + \" is Mandatory-Properties-DataCite\")"
   ]
  },
  {
   "cell_type": "code",
   "execution_count": 24,
   "metadata": {},
   "outputs": [
    {
     "data": {
      "text/markdown": [
       "<b>For each PID see if it contains INST and get the content then check for example typeid:"
      ],
      "text/plain": [
       "<IPython.core.display.Markdown object>"
      ]
     },
     "execution_count": 24,
     "metadata": {},
     "output_type": "execute_result"
    }
   ],
   "source": [
    "md(\"<b>For each PID see if it contains INST and get the content then check for example typeid:\")"
   ]
  },
  {
   "cell_type": "code",
   "execution_count": 27,
   "metadata": {},
   "outputs": [
    {
     "name": "stdout",
     "output_type": "stream",
     "text": [
      "PID to check: 11022/0000-0001-30FC-D\n",
      "Get INST data if there is one\n",
      "Get Type INST Content\n",
      "{\n",
      "  \"data\" : {\n",
      "    \"format\" : \"string\",\n",
      "    \"value\" : \"GWDG\"\n",
      "  },\n",
      "  \"index\" : 3,\n",
      "  \"timestamp\" : \"2016-08-27T11:41:32Z\",\n",
      "  \"ttl\" : 86400,\n",
      "  \"type\" : \"INST\"\n",
      "}\n",
      "Is this PID a Type\n",
      "false\n",
      "PID has type:\n",
      "true\n",
      "PID to check: 11022/0000-0001-30FE-B\n",
      "Get INST data if there is one\n",
      "Get Type INST Content\n",
      "{\n",
      "  \"data\" : {\n",
      "    \"format\" : \"string\",\n",
      "    \"value\" : \"GWDG\"\n",
      "  },\n",
      "  \"index\" : 3,\n",
      "  \"timestamp\" : \"2016-08-27T18:05:45Z\",\n",
      "  \"ttl\" : 86400,\n",
      "  \"type\" : \"INST\"\n",
      "}\n",
      "Is this PID a Type\n",
      "false\n",
      "PID has type:\n",
      "true\n",
      "PID to check: 21.11115/0000-000C-2995-E\n",
      "Get INST data if there is one\n",
      "Get Type INST Content\n",
      "{\n",
      "  \"data\" : {\n",
      "    \"format\" : \"string\",\n",
      "    \"value\" : \"CLARIN21.11115\"\n",
      "  },\n",
      "  \"index\" : 2,\n",
      "  \"timestamp\" : \"2019-08-28T11:38:48Z\",\n",
      "  \"ttl\" : 86400,\n",
      "  \"type\" : \"INST\"\n",
      "}\n",
      "Is this PID a Type\n",
      "false\n",
      "PID has type:\n",
      "false\n",
      "PID to check: 21.14100/223fc64c-9090-3d01-9268-428e1031d214\n",
      "Get INST data if there is one\n",
      "Get Type INST Content\n",
      "\"\"\n",
      "Is this PID a Type\n",
      "false\n",
      "PID has type:\n",
      "false\n"
     ]
    }
   ],
   "source": [
    "for example_PID in example_pid_list:\n",
    "    pid  = PIDclient_p3.PID(example_PID)\n",
    "    tyid = PITclient_p3.typeID(example_typeID)\n",
    "    print(\"PID to check:\", pid.id)\n",
    "    print(\"Get INST data if there is one\")\n",
    "    print(\"Get Type INST Content\\n\" + json.dumps(pid.getTypeContentInPID('INST'), sort_keys=True,indent=2, separators=(',', ' : ')))\n",
    "    print (\"Is this PID a Type\\n\" + json.dumps(pid.isType(), sort_keys=True,indent=2, separators=(',', ' : ')))\n",
    "    print (\"PID has type:\\n\" + json.dumps(pid.hasType(example_typeID), sort_keys=True,indent=2, separators=(',', ' : ')))"
   ]
  },
  {
   "cell_type": "code",
   "execution_count": null,
   "metadata": {},
   "outputs": [],
   "source": []
  }
 ],
 "metadata": {
  "kernelspec": {
   "display_name": "Python 3",
   "language": "python",
   "name": "python3"
  },
  "language_info": {
   "codemirror_mode": {
    "name": "ipython",
    "version": 3
   },
   "file_extension": ".py",
   "mimetype": "text/x-python",
   "name": "python",
   "nbconvert_exporter": "python",
   "pygments_lexer": "ipython3",
   "version": "3.7.6"
  }
 },
 "nbformat": 4,
 "nbformat_minor": 4
}
