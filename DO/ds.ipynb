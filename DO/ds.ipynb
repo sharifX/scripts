{
 "cells": [
  {
   "cell_type": "markdown",
   "metadata": {},
   "source": [
    "\n",
    "## Example of data lifecycle using Digital Specimens and API integration \n",
    "##  "
   ]
  },
  {
   "cell_type": "markdown",
   "metadata": {},
   "source": [
    "<b>First, we import necessary python libraries that deal with json and a specific library for ENA API.</b>"
   ]
  },
  {
   "cell_type": "code",
   "execution_count": 6,
   "metadata": {},
   "outputs": [],
   "source": [
    "import json\n",
    "import requests\n",
    "from IPython.display import Markdown as md\n",
    "import enasearch"
   ]
  },
  {
   "cell_type": "markdown",
   "metadata": {},
   "source": [
    "<b>Read a JSON file that is a Digital Specimen record and print the raw data.<b>"
   ]
  },
  {
   "cell_type": "code",
   "execution_count": 7,
   "metadata": {},
   "outputs": [
    {
     "name": "stdout",
     "output_type": "stream",
     "text": [
      "{\n",
      "  \"id\": \"20.5000.1025/6e2b07784b8f608d9e37\",\n",
      "  \"type\": \"DigitalSpecimen\",\n",
      "  \"attributes\": {\n",
      "    \"content\": {\n",
      "      \"id\": \"20.5000.1025/6e2b07784b8f608d9e37\",\n",
      "      \"creationdatetime\": \"2019-05-24T17:17:44.436Z\",\n",
      "      \"creator\": \"admin\",\n",
      "      \"midslevel\": 2,\n",
      "      \"scientificName\": \"Holorchis castex Bray & Justine\",\n",
      "      \"country\": \"New Caledonia\",\n",
      "      \"locality\": \"Rocher a la voile\",\n",
      "      \"decimalLat/Long\": [\n",
      "        -22.3,\n",
      "        166.42\n",
      "      ],\n",
      "      \"recordedBy\": \"J L. Justine\",\n",
      "      \"collectionDate\": \"2006-06-01\",\n",
      "      \"catalogNumber\": \"2006.12.6.40-41\",\n",
      "      \"otherCatalogNumbers\": \"NHMUK:ecatalogue:7072219\",\n",
      "      \"institutionCode\": \"NHMUK\",\n",
      "      \"collectionCode\": \"ZOO, Parasitic worms\",\n",
      "      \"stableIdentifier\": \"https://data.nhm.ac.uk/object/e90b81bc-1642-47ca-b587-6aa8885cd6a0/1558569600000\",\n",
      "      \"physicalSpecimenId\": \"013258549\",\n",
      "      \"Annotations\": \"Type status = paratype. Holotype =  MNHN JNC 1848 \\u2013D 1\",\n",
      "      \"gbifId\": \"https://www.gbif.org/occurrence/1826086349\",\n",
      "      \"catOfLifeReference\": \"http://www.catalogueoflife.org/col/details/species/id/828cbc4eecaa2402b09cd9223754171e\",\n",
      "      \"literatureReference\": \"https://doi.org/10.5281/zenodo.175744\",\n",
      "      \"treatmentbank\": \"http://tb.plazi.org/GgServer/html/03BA87825543FFBFD895FD27FAE1DDAD \",\n",
      "      \"enaBiosample\": \"None available\",\n",
      "      \"enaSequence\": \"https://www.ebi.ac.uk/ena/data/view/FJ788436\",\n",
      "      \"LiteratureReferenceRelated\": \"https://doi.org/10.2478/s11686-009-0045-z\"\n",
      "    },\n",
      "    \"metadata\": {\n",
      "      \"createdOn\": 1558718264436,\n",
      "      \"createdBy\": \"admin\",\n",
      "      \"modifiedOn\": 1559319268284,\n",
      "      \"modifiedBy\": \"admin\",\n",
      "      \"txnId\": 167\n",
      "    }\n",
      "  },\n",
      "  \"elements\": []\n",
      "}\n"
     ]
    }
   ],
   "source": [
    "with open('DO/castex.json') as json_file:\n",
    "    data = json.load(json_file)\n",
    "print(json.dumps(data, indent=2))"
   ]
  },
  {
   "cell_type": "markdown",
   "metadata": {},
   "source": [
    "<b>Grab the data elements we need. For this example, we will use the accession ID ENA database.</b>"
   ]
  },
  {
   "cell_type": "code",
   "execution_count": 9,
   "metadata": {},
   "outputs": [],
   "source": [
    "stableIdentifier = data['attributes']['content']['stableIdentifier']\n",
    "catalogNumber = data['attributes']['content']['catalogNumber']\n",
    "enaLink = data['attributes']['content']['enaSequence']\n"
   ]
  },
  {
   "cell_type": "code",
   "execution_count": 10,
   "metadata": {},
   "outputs": [
    {
     "data": {
      "text/markdown": [
       "<b>Link to the specimen</b> https://data.nhm.ac.uk/object/e90b81bc-1642-47ca-b587-6aa8885cd6a0/1558569600000 "
      ],
      "text/plain": [
       "<IPython.core.display.Markdown object>"
      ]
     },
     "execution_count": 10,
     "metadata": {},
     "output_type": "execute_result"
    }
   ],
   "source": [
    "md(\"<b>Link to the specimen</b> {} \".format(stableIdentifier))"
   ]
  },
  {
   "cell_type": "code",
   "execution_count": 11,
   "metadata": {},
   "outputs": [
    {
     "data": {
      "text/markdown": [
       "<b>Catalog Number</b> 2006.12.6.40-41 "
      ],
      "text/plain": [
       "<IPython.core.display.Markdown object>"
      ]
     },
     "execution_count": 11,
     "metadata": {},
     "output_type": "execute_result"
    }
   ],
   "source": [
    "md(\"<b>Catalog Number</b> {} \".format(catalogNumber))"
   ]
  },
  {
   "cell_type": "code",
   "execution_count": 12,
   "metadata": {},
   "outputs": [
    {
     "data": {
      "text/markdown": [
       "<b>Link to the sequence</b> https://www.ebi.ac.uk/ena/data/view/FJ788436 "
      ],
      "text/plain": [
       "<IPython.core.display.Markdown object>"
      ]
     },
     "execution_count": 12,
     "metadata": {},
     "output_type": "execute_result"
    }
   ],
   "source": [
    "md(\"<b>Link to the sequence</b> {} \".format(enaLink))"
   ]
  },
  {
   "cell_type": "markdown",
   "metadata": {},
   "source": [
    "<b>Using enasearch python library (which uses the BioPython SeqRecord data class) grab the sequence.<b>"
   ]
  },
  {
   "cell_type": "code",
   "execution_count": 13,
   "metadata": {},
   "outputs": [],
   "source": [
    "enaresult = enasearch.retrieve_data(\n",
    "        ids=\"FJ788436\",\n",
    "        download=None,\n",
    "        display=\"fasta\",\n",
    "        file=None,\n",
    "        offset=0,\n",
    "        header=None)"
   ]
  },
  {
   "cell_type": "code",
   "execution_count": 14,
   "metadata": {},
   "outputs": [
    {
     "name": "stdout",
     "output_type": "stream",
     "text": [
      "GGTTTATTGCAGAGGTTTGCGGACTTATTGANGTTGATTATTAAGTTTAAGATTGCTTTTTTTCAGGCGCGTAGGTGGCTGTCTTGGGGAGGGGTGCTTTTGTTAGTTTTCTTGTCTTGTAGGTATTGTCTTATTTTTGCTTTTTGTCAGAGGGGTCAGAGTAATCAGACTGTGCTGTTGTGGCTTTTGGTTATTACTAGTTTAACTGGTTATAGATTGCTTAGTGTTGGGTGAGGATCATATAATAAGTATGCTTTGGTGAGTTGTGTTCGGTCTGCGTTTGGCTCTATAAGGTTTGAGGCTGTTTTTATGTGTGTTGTTATTATGGTTGGGCTGCTGTGAGGGGGTTATTATTCTTTTCCCGGGGTTGAGCATTCTTGAATGTTGCTGTTGGTTTCACCGCTGTTGTATGCTGTTTGGCTTGTAGGTATACTTTGTGAGTGCAACCGAACTCCATTG\n"
     ]
    }
   ],
   "source": [
    "mysequence = enaresult[0].seq\n",
    "print(mysequence)"
   ]
  },
  {
   "cell_type": "code",
   "execution_count": 46,
   "metadata": {},
   "outputs": [
    {
     "data": {
      "text/markdown": [
       "<b>Now fetch the same sequence using SciData integrated file. This file contains Digital Specimen and all the related records</b>"
      ],
      "text/plain": [
       "<IPython.core.display.Markdown object>"
      ]
     },
     "execution_count": 46,
     "metadata": {},
     "output_type": "execute_result"
    }
   ],
   "source": [
    "md(\"<b>Now fetch the same sequence using SciData integrated file. This file contains Digital Specimen and all the related records</b>\")"
   ]
  },
  {
   "cell_type": "code",
   "execution_count": 47,
   "metadata": {},
   "outputs": [],
   "source": [
    "with open('DO/fair_holocris_castex_scidata_related.jsonld') as jsonld_file:\n",
    "    jsonlddata = json.load(jsonld_file)"
   ]
  },
  {
   "cell_type": "code",
   "execution_count": null,
   "metadata": {},
   "outputs": [],
   "source": [
    "md(\"Grab the elements. \")"
   ]
  },
  {
   "cell_type": "code",
   "execution_count": 39,
   "metadata": {},
   "outputs": [],
   "source": [
    "scidata_array = jsonlddata['@graph']['scidata'][0]['system']['facets']\n",
    "source_array  = jsonlddata['@graph']['sources']"
   ]
  },
  {
   "cell_type": "code",
   "execution_count": 41,
   "metadata": {},
   "outputs": [
    {
     "name": "stdout",
     "output_type": "stream",
     "text": [
      "dissco:specimenRecord\n",
      "source/2/\n",
      "dissco:occurrenceRecord\n",
      "source/3/\n",
      "dissco:speciesRecord\n",
      "source/4/\n",
      "dissco:treatmentRecord\n",
      "source/5/\n",
      "dissco:sequenceRecord\n",
      "source/6/\n"
     ]
    }
   ],
   "source": [
    "for i in scidata_array: \n",
    "    print(i['@type'])\n",
    "    print(i['source'])"
   ]
  },
  {
   "cell_type": "code",
   "execution_count": 45,
   "metadata": {},
   "outputs": [
    {
     "data": {
      "text/markdown": [
       "<b>Grab the sequence</b>"
      ],
      "text/plain": [
       "<IPython.core.display.Markdown object>"
      ]
     },
     "execution_count": 45,
     "metadata": {},
     "output_type": "execute_result"
    }
   ],
   "source": [
    "md(\"<b>Grab the sequence</b>\")"
   ]
  },
  {
   "cell_type": "code",
   "execution_count": 43,
   "metadata": {},
   "outputs": [
    {
     "name": "stdout",
     "output_type": "stream",
     "text": [
      "ggtttattgcagaggtttgcggacttattgangttgattattaagtttaagattgctttttttcaggcgcgtaggtggctgtcttggggaggggtgcttttgttagttttcttgtcttgtaggtattgtcttatttttgctttttgtcagaggggtcagagtaatcagactgtgctgttgtggcttttggttattactagtttaactggttatagattgcttagtgttgggtgaggatcatataataagtatgctttggtgagttgtgttcggtctgcgtttggctctataaggtttgaggctgtttttatgtgtgttgttattatggttgggctgctgtgagggggttattattcttttcccggggttgagcattcttgaatgttgctgttggtttcaccgctgttgtatgctgtttggcttgtaggtatactttgtgagtgcaaccgaactccattg\n"
     ]
    }
   ],
   "source": [
    "sequence = jsonlddata['@graph']['scidata'][0]['system']['facets'][4]['sequence']\n",
    "print(sequence)"
   ]
  },
  {
   "cell_type": "code",
   "execution_count": 48,
   "metadata": {},
   "outputs": [
    {
     "data": {
      "text/markdown": [
       "<b>Using the same json ld we can grab taxon information</b>"
      ],
      "text/plain": [
       "<IPython.core.display.Markdown object>"
      ]
     },
     "execution_count": 48,
     "metadata": {},
     "output_type": "execute_result"
    }
   ],
   "source": [
    "md(\"<b>Using the same json ld we can grab taxon information</b>\")"
   ]
  },
  {
   "cell_type": "code",
   "execution_count": 51,
   "metadata": {},
   "outputs": [
    {
     "name": "stdout",
     "output_type": "stream",
     "text": [
      "{\n",
      "  \"@id\": \"taxon/1/\",\n",
      "  \"@type\": [\n",
      "    \"plazi:definesTaxonConcept\",\n",
      "    \"http://filteredpush.org/ontologies/oa/dwcFP#Taxon\"\n",
      "  ],\n",
      "  \"box\": \"[151,354,658,684]\",\n",
      "  \"class\": \"Trematoda\",\n",
      "  \"family\": \"Lepocreadiidae\",\n",
      "  \"genus\": \"Holorchis\",\n",
      "  \"kingdom\": \"Animalia\",\n",
      "  \"order\": \"Plagiorchiida\",\n",
      "  \"pageId\": \"1\",\n",
      "  \"pageNumber\": \"52\",\n",
      "  \"phylum\": \"Platyhelminthes\",\n",
      "  \"rank\": \"species\",\n",
      "  \"species\": \"castex\",\n",
      "  \"status\": \"n. sp.\"\n",
      "}\n"
     ]
    }
   ],
   "source": [
    "taxon = jsonlddata['@graph']['scidata'][0]['system']['facets'][3]['taxon']\n",
    "print(json.dumps(taxon, indent=2))"
   ]
  },
  {
   "cell_type": "code",
   "execution_count": null,
   "metadata": {},
   "outputs": [],
   "source": []
  }
 ],
 "metadata": {
  "kernelspec": {
   "display_name": "Python 3",
   "language": "python",
   "name": "python3"
  },
  "language_info": {
   "codemirror_mode": {
    "name": "ipython",
    "version": 3
   },
   "file_extension": ".py",
   "mimetype": "text/x-python",
   "name": "python",
   "nbconvert_exporter": "python",
   "pygments_lexer": "ipython3",
   "version": "3.7.1"
  }
 },
 "nbformat": 4,
 "nbformat_minor": 2
}
