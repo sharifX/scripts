{
 "cells": [
  {
   "cell_type": "markdown",
   "metadata": {},
   "source": [
    "\n",
    "## Example of data lifecycle using Digital Specimens and API integration \n",
    "##  "
   ]
  },
  {
   "cell_type": "markdown",
   "metadata": {},
   "source": [
    "<b>First, we import necessary python libraries that deal with json and a specific library for ENA API.</b>"
   ]
  },
  {
   "cell_type": "code",
   "execution_count": null,
   "metadata": {},
   "outputs": [],
   "source": [
    "import json\n",
    "import requests\n",
    "import json\n",
    "from IPython.display import Markdown as md\n",
    "import enasearch"
   ]
  },
  {
   "cell_type": "markdown",
   "metadata": {},
   "source": [
    "<b>Read a JSON file that is a Digital Specimen record and print the raw data.<b>"
   ]
  },
  {
   "cell_type": "code",
   "execution_count": 110,
   "metadata": {},
   "outputs": [
    {
     "name": "stdout",
     "output_type": "stream",
     "text": [
      "{'id': '20.5000.1025/6e2b07784b8f608d9e37', 'type': 'DigitalSpecimen', 'attributes': {'content': {'id': '20.5000.1025/6e2b07784b8f608d9e37', 'creationdatetime': '2019-05-24T17:17:44.436Z', 'creator': 'admin', 'midslevel': 2, 'scientificName': 'Holorchis castex Bray & Justine', 'country': 'New Caledonia', 'locality': 'Rocher a la voile', 'decimalLat/Long': [-22.3, 166.42], 'recordedBy': 'J L. Justine', 'collectionDate': '2006-06-01', 'catalogNumber': '2006.12.6.40-41', 'otherCatalogNumbers': 'NHMUK:ecatalogue:7072219', 'institutionCode': 'NHMUK', 'collectionCode': 'ZOO, Parasitic worms', 'stableIdentifier': 'https://data.nhm.ac.uk/object/e90b81bc-1642-47ca-b587-6aa8885cd6a0/1558569600000', 'physicalSpecimenId': '013258549', 'Annotations': 'Type status = paratype. Holotype =  MNHN JNC 1848 –D 1', 'gbifId': 'https://www.gbif.org/occurrence/1826086349', 'catOfLifeReference': 'http://www.catalogueoflife.org/col/details/species/id/828cbc4eecaa2402b09cd9223754171e', 'literatureReference': 'https://doi.org/10.5281/zenodo.175744', 'treatmentbank': 'http://tb.plazi.org/GgServer/html/03BA87825543FFBFD895FD27FAE1DDAD ', 'enaBiosample': 'None available', 'enaSequence': 'https://www.ebi.ac.uk/ena/data/view/FJ788436', 'LiteratureReferenceRelated': 'https://doi.org/10.2478/s11686-009-0045-z'}, 'metadata': {'createdOn': 1558718264436, 'createdBy': 'admin', 'modifiedOn': 1559319268284, 'modifiedBy': 'admin', 'txnId': 167}}, 'elements': []}\n"
     ]
    }
   ],
   "source": [
    "with open('DO/castex.json') as json_file:\n",
    "    data = json.load(json_file)\n"
   ]
  },
  {
   "cell_type": "markdown",
   "metadata": {},
   "source": [
    "<b>Grab the data elements we need. For this example, we will use the accession ID ENA database.</b>"
   ]
  },
  {
   "cell_type": "code",
   "execution_count": 63,
   "metadata": {},
   "outputs": [],
   "source": [
    "stableIdentifier = data['attributes']['content']['stableIdentifier']\n",
    "catalogNumber = data['attributes']['content']['catalogNumber']\n",
    "enaLink = data['attributes']['content']['enaSequence']\n"
   ]
  },
  {
   "cell_type": "code",
   "execution_count": 64,
   "metadata": {},
   "outputs": [
    {
     "data": {
      "text/markdown": [
       "<b>Link to the specimen</b> https://data.nhm.ac.uk/object/e90b81bc-1642-47ca-b587-6aa8885cd6a0/1558569600000 "
      ],
      "text/plain": [
       "<IPython.core.display.Markdown object>"
      ]
     },
     "execution_count": 64,
     "metadata": {},
     "output_type": "execute_result"
    }
   ],
   "source": [
    "md(\"<b>Link to the specimen</b> {} \".format(stableIdentifier))"
   ]
  },
  {
   "cell_type": "code",
   "execution_count": 65,
   "metadata": {},
   "outputs": [
    {
     "data": {
      "text/markdown": [
       "<b>Catalog Number</b> 2006.12.6.40-41 "
      ],
      "text/plain": [
       "<IPython.core.display.Markdown object>"
      ]
     },
     "execution_count": 65,
     "metadata": {},
     "output_type": "execute_result"
    }
   ],
   "source": [
    "md(\"<b>Catalog Number</b> {} \".format(catalogNumber))"
   ]
  },
  {
   "cell_type": "code",
   "execution_count": 66,
   "metadata": {},
   "outputs": [
    {
     "data": {
      "text/markdown": [
       "<b>Link to the sequence</b> https://www.ebi.ac.uk/ena/data/view/FJ788436 "
      ],
      "text/plain": [
       "<IPython.core.display.Markdown object>"
      ]
     },
     "execution_count": 66,
     "metadata": {},
     "output_type": "execute_result"
    }
   ],
   "source": [
    "md(\"<b>Link to the sequence</b> {} \".format(enaLink))"
   ]
  },
  {
   "cell_type": "markdown",
   "metadata": {},
   "source": [
    "<b>Using enasearch python library (which uses the BioPython SeqRecord data class) grab the sequence.<b>"
   ]
  },
  {
   "cell_type": "code",
   "execution_count": 96,
   "metadata": {},
   "outputs": [],
   "source": [
    "enaresult = enasearch.retrieve_data(\n",
    "        ids=\"FJ788436\",\n",
    "        download=None,\n",
    "        display=\"fasta\",\n",
    "        file=None,\n",
    "        offset=0,\n",
    "        header=None)"
   ]
  },
  {
   "cell_type": "code",
   "execution_count": 100,
   "metadata": {},
   "outputs": [
    {
     "name": "stdout",
     "output_type": "stream",
     "text": [
      "GGTTTATTGCAGAGGTTTGCGGACTTATTGANGTTGATTATTAAGTTTAAGATTGCTTTTTTTCAGGCGCGTAGGTGGCTGTCTTGGGGAGGGGTGCTTTTGTTAGTTTTCTTGTCTTGTAGGTATTGTCTTATTTTTGCTTTTTGTCAGAGGGGTCAGAGTAATCAGACTGTGCTGTTGTGGCTTTTGGTTATTACTAGTTTAACTGGTTATAGATTGCTTAGTGTTGGGTGAGGATCATATAATAAGTATGCTTTGGTGAGTTGTGTTCGGTCTGCGTTTGGCTCTATAAGGTTTGAGGCTGTTTTTATGTGTGTTGTTATTATGGTTGGGCTGCTGTGAGGGGGTTATTATTCTTTTCCCGGGGTTGAGCATTCTTGAATGTTGCTGTTGGTTTCACCGCTGTTGTATGCTGTTTGGCTTGTAGGTATACTTTGTGAGTGCAACCGAACTCCATTG\n"
     ]
    }
   ],
   "source": [
    "mysequence = enaresult[0].seq\n",
    "print(mysequence)"
   ]
  }
 ],
 "metadata": {
  "kernelspec": {
   "display_name": "Python 3",
   "language": "python",
   "name": "python3"
  },
  "language_info": {
   "codemirror_mode": {
    "name": "ipython",
    "version": 3
   },
   "file_extension": ".py",
   "mimetype": "text/x-python",
   "name": "python",
   "nbconvert_exporter": "python",
   "pygments_lexer": "ipython3",
   "version": "3.7.1"
  }
 },
 "nbformat": 4,
 "nbformat_minor": 2
}
