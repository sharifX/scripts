{
 "cells": [
  {
   "cell_type": "markdown",
   "metadata": {},
   "source": [
    "\n",
    "## Example of data lifecycle using Digital Specimens and API integration \n",
    "##  "
   ]
  },
  {
   "cell_type": "code",
   "execution_count": 105,
   "metadata": {},
   "outputs": [
    {
     "data": {
      "text/markdown": [
       "First, we impoort necessary python libraries that deal with json retrieval and a specific library for ENA"
      ],
      "text/plain": [
       "<IPython.core.display.Markdown object>"
      ]
     },
     "execution_count": 105,
     "metadata": {},
     "output_type": "execute_result"
    }
   ],
   "source": [
    "from IPython.display import Markdown as md\n",
    "md(\"First, we impoort necessary python libraries that deal with json retrieval and a specific library for ENA\")\n"
   ]
  },
  {
   "cell_type": "code",
   "execution_count": null,
   "metadata": {},
   "outputs": [],
   "source": [
    "import json\n",
    "import requests\n",
    "import json\n",
    "from IPython.display import Markdown as md\n",
    "import enasearch"
   ]
  },
  {
   "cell_type": "code",
   "execution_count": 106,
   "metadata": {},
   "outputs": [
    {
     "data": {
      "text/markdown": [
       "Read a JSON file that is a Digital Specimen"
      ],
      "text/plain": [
       "<IPython.core.display.Markdown object>"
      ]
     },
     "execution_count": 106,
     "metadata": {},
     "output_type": "execute_result"
    }
   ],
   "source": [
    "md(\"Read a JSON file that is a Digital Specimen\")"
   ]
  },
  {
   "cell_type": "code",
   "execution_count": 62,
   "metadata": {},
   "outputs": [],
   "source": [
    "with open('DO/castex.json') as json_file:\n",
    "    data = json.load(json_file)"
   ]
  },
  {
   "cell_type": "code",
   "execution_count": 107,
   "metadata": {},
   "outputs": [
    {
     "data": {
      "text/markdown": [
       "Grab the data elements we need. For this example, we will use the link to the ENA database"
      ],
      "text/plain": [
       "<IPython.core.display.Markdown object>"
      ]
     },
     "execution_count": 107,
     "metadata": {},
     "output_type": "execute_result"
    }
   ],
   "source": [
    "md(\"Grab the data elements we need. For this example, we will use the link to the ENA database\")"
   ]
  },
  {
   "cell_type": "code",
   "execution_count": 63,
   "metadata": {},
   "outputs": [],
   "source": [
    "stableIdentifier = data['attributes']['content']['stableIdentifier']\n",
    "catalogNumber = data['attributes']['content']['catalogNumber']\n",
    "enaLink = data['attributes']['content']['enaSequence']\n"
   ]
  },
  {
   "cell_type": "code",
   "execution_count": 64,
   "metadata": {},
   "outputs": [
    {
     "data": {
      "text/markdown": [
       "<b>Link to the specimen</b> https://data.nhm.ac.uk/object/e90b81bc-1642-47ca-b587-6aa8885cd6a0/1558569600000 "
      ],
      "text/plain": [
       "<IPython.core.display.Markdown object>"
      ]
     },
     "execution_count": 64,
     "metadata": {},
     "output_type": "execute_result"
    }
   ],
   "source": [
    "md(\"<b>Link to the specimen</b> {} \".format(stableIdentifier))"
   ]
  },
  {
   "cell_type": "code",
   "execution_count": 65,
   "metadata": {},
   "outputs": [
    {
     "data": {
      "text/markdown": [
       "<b>Catalog Number</b> 2006.12.6.40-41 "
      ],
      "text/plain": [
       "<IPython.core.display.Markdown object>"
      ]
     },
     "execution_count": 65,
     "metadata": {},
     "output_type": "execute_result"
    }
   ],
   "source": [
    "md(\"<b>Catalog Number</b> {} \".format(catalogNumber))"
   ]
  },
  {
   "cell_type": "code",
   "execution_count": 66,
   "metadata": {},
   "outputs": [
    {
     "data": {
      "text/markdown": [
       "<b>Link to the sequence</b> https://www.ebi.ac.uk/ena/data/view/FJ788436 "
      ],
      "text/plain": [
       "<IPython.core.display.Markdown object>"
      ]
     },
     "execution_count": 66,
     "metadata": {},
     "output_type": "execute_result"
    }
   ],
   "source": [
    "md(\"<b>Link to the sequence</b> {} \".format(enaLink))"
   ]
  },
  {
   "cell_type": "code",
   "execution_count": 109,
   "metadata": {},
   "outputs": [
    {
     "data": {
      "text/markdown": [
       "Using enasearch python library which uses the BioPython SeqRecord data class grab the sequence"
      ],
      "text/plain": [
       "<IPython.core.display.Markdown object>"
      ]
     },
     "execution_count": 109,
     "metadata": {},
     "output_type": "execute_result"
    }
   ],
   "source": [
    "md(\"Using enasearch python library which uses the BioPython SeqRecord data class grab the sequence\")"
   ]
  },
  {
   "cell_type": "code",
   "execution_count": 96,
   "metadata": {},
   "outputs": [],
   "source": [
    "enaresult = enasearch.retrieve_data(\n",
    "        ids=\"FJ788436\",\n",
    "        download=None,\n",
    "        display=\"fasta\",\n",
    "        file=None,\n",
    "        offset=0,\n",
    "        header=None)"
   ]
  },
  {
   "cell_type": "code",
   "execution_count": 100,
   "metadata": {},
   "outputs": [
    {
     "name": "stdout",
     "output_type": "stream",
     "text": [
      "GGTTTATTGCAGAGGTTTGCGGACTTATTGANGTTGATTATTAAGTTTAAGATTGCTTTTTTTCAGGCGCGTAGGTGGCTGTCTTGGGGAGGGGTGCTTTTGTTAGTTTTCTTGTCTTGTAGGTATTGTCTTATTTTTGCTTTTTGTCAGAGGGGTCAGAGTAATCAGACTGTGCTGTTGTGGCTTTTGGTTATTACTAGTTTAACTGGTTATAGATTGCTTAGTGTTGGGTGAGGATCATATAATAAGTATGCTTTGGTGAGTTGTGTTCGGTCTGCGTTTGGCTCTATAAGGTTTGAGGCTGTTTTTATGTGTGTTGTTATTATGGTTGGGCTGCTGTGAGGGGGTTATTATTCTTTTCCCGGGGTTGAGCATTCTTGAATGTTGCTGTTGGTTTCACCGCTGTTGTATGCTGTTTGGCTTGTAGGTATACTTTGTGAGTGCAACCGAACTCCATTG\n"
     ]
    }
   ],
   "source": [
    "mysequence = enaresult[0].seq\n",
    "print(mysequence)"
   ]
  }
 ],
 "metadata": {
  "kernelspec": {
   "display_name": "Python 3",
   "language": "python",
   "name": "python3"
  },
  "language_info": {
   "codemirror_mode": {
    "name": "ipython",
    "version": 3
   },
   "file_extension": ".py",
   "mimetype": "text/x-python",
   "name": "python",
   "nbconvert_exporter": "python",
   "pygments_lexer": "ipython3",
   "version": "3.7.1"
  }
 },
 "nbformat": 4,
 "nbformat_minor": 2
}
