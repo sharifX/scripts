{
 "cells": [
  {
   "cell_type": "markdown",
   "metadata": {},
   "source": [
    "\n",
    "## Example of data lifecycle using Digital Specimens and API integration \n",
    "##  "
   ]
  },
  {
   "cell_type": "markdown",
   "metadata": {},
   "source": [
    "<b>First, we import necessary python libraries that deal with json and a specific library for ENA API.</b>"
   ]
  },
  {
   "cell_type": "code",
   "execution_count": null,
   "metadata": {},
   "outputs": [],
   "source": [
    "import json\n",
    "import requests\n",
    "import json\n",
    "from IPython.display import Markdown as md\n",
    "import enasearch"
   ]
  },
  {
   "cell_type": "markdown",
   "metadata": {},
   "source": [
    "<b>Read a JSON file that is a Digital Specimen record and print the raw data.<b>"
   ]
  },
  {
   "cell_type": "code",
   "execution_count": 135,
   "metadata": {},
   "outputs": [
    {
     "name": "stdout",
     "output_type": "stream",
     "text": [
      "{\n",
      "  \"id\": \"20.5000.1025/6e2b07784b8f608d9e37\",\n",
      "  \"type\": \"DigitalSpecimen\",\n",
      "  \"attributes\": {\n",
      "    \"content\": {\n",
      "      \"id\": \"20.5000.1025/6e2b07784b8f608d9e37\",\n",
      "      \"creationdatetime\": \"2019-05-24T17:17:44.436Z\",\n",
      "      \"creator\": \"admin\",\n",
      "      \"midslevel\": 2,\n",
      "      \"scientificName\": \"Holorchis castex Bray & Justine\",\n",
      "      \"country\": \"New Caledonia\",\n",
      "      \"locality\": \"Rocher a la voile\",\n",
      "      \"decimalLat/Long\": [\n",
      "        -22.3,\n",
      "        166.42\n",
      "      ],\n",
      "      \"recordedBy\": \"J L. Justine\",\n",
      "      \"collectionDate\": \"2006-06-01\",\n",
      "      \"catalogNumber\": \"2006.12.6.40-41\",\n",
      "      \"otherCatalogNumbers\": \"NHMUK:ecatalogue:7072219\",\n",
      "      \"institutionCode\": \"NHMUK\",\n",
      "      \"collectionCode\": \"ZOO, Parasitic worms\",\n",
      "      \"stableIdentifier\": \"https://data.nhm.ac.uk/object/e90b81bc-1642-47ca-b587-6aa8885cd6a0/1558569600000\",\n",
      "      \"physicalSpecimenId\": \"013258549\",\n",
      "      \"Annotations\": \"Type status = paratype. Holotype =  MNHN JNC 1848 \\u2013D 1\",\n",
      "      \"gbifId\": \"https://www.gbif.org/occurrence/1826086349\",\n",
      "      \"catOfLifeReference\": \"http://www.catalogueoflife.org/col/details/species/id/828cbc4eecaa2402b09cd9223754171e\",\n",
      "      \"literatureReference\": \"https://doi.org/10.5281/zenodo.175744\",\n",
      "      \"treatmentbank\": \"http://tb.plazi.org/GgServer/html/03BA87825543FFBFD895FD27FAE1DDAD \",\n",
      "      \"enaBiosample\": \"None available\",\n",
      "      \"enaSequence\": \"https://www.ebi.ac.uk/ena/data/view/FJ788436\",\n",
      "      \"LiteratureReferenceRelated\": \"https://doi.org/10.2478/s11686-009-0045-z\"\n",
      "    },\n",
      "    \"metadata\": {\n",
      "      \"createdOn\": 1558718264436,\n",
      "      \"createdBy\": \"admin\",\n",
      "      \"modifiedOn\": 1559319268284,\n",
      "      \"modifiedBy\": \"admin\",\n",
      "      \"txnId\": 167\n",
      "    }\n",
      "  },\n",
      "  \"elements\": []\n",
      "}\n"
     ]
    }
   ],
   "source": [
    "with open('DO/castex.json') as json_file:\n",
    "    json_object = json.load(json_file)\n",
    "print(json.dumps(json_object, indent=2))"
   ]
  },
  {
   "cell_type": "markdown",
   "metadata": {},
   "source": [
    "<b>Grab the data elements we need. For this example, we will use the accession ID ENA database.</b>"
   ]
  },
  {
   "cell_type": "code",
   "execution_count": 63,
   "metadata": {},
   "outputs": [],
   "source": [
    "stableIdentifier = data['attributes']['content']['stableIdentifier']\n",
    "catalogNumber = data['attributes']['content']['catalogNumber']\n",
    "enaLink = data['attributes']['content']['enaSequence']\n"
   ]
  },
  {
   "cell_type": "code",
   "execution_count": 137,
   "metadata": {},
   "outputs": [
    {
     "data": {
      "text/markdown": [
       "<b>Link to the specimen</b> https://data.nhm.ac.uk/object/e90b81bc-1642-47ca-b587-6aa8885cd6a0/1558569600000 "
      ],
      "text/plain": [
       "<IPython.core.display.Markdown object>"
      ]
     },
     "execution_count": 137,
     "metadata": {},
     "output_type": "execute_result"
    }
   ],
   "source": [
    "md(\"<b>Link to the specimen</b> {} \".format(stableIdentifier))"
   ]
  },
  {
   "cell_type": "code",
   "execution_count": 65,
   "metadata": {},
   "outputs": [
    {
     "data": {
      "text/markdown": [
       "<b>Catalog Number</b> 2006.12.6.40-41 "
      ],
      "text/plain": [
       "<IPython.core.display.Markdown object>"
      ]
     },
     "execution_count": 65,
     "metadata": {},
     "output_type": "execute_result"
    }
   ],
   "source": [
    "md(\"<b>Catalog Number</b> {} \".format(catalogNumber))"
   ]
  },
  {
   "cell_type": "code",
   "execution_count": 66,
   "metadata": {},
   "outputs": [
    {
     "data": {
      "text/markdown": [
       "<b>Link to the sequence</b> https://www.ebi.ac.uk/ena/data/view/FJ788436 "
      ],
      "text/plain": [
       "<IPython.core.display.Markdown object>"
      ]
     },
     "execution_count": 66,
     "metadata": {},
     "output_type": "execute_result"
    }
   ],
   "source": [
    "md(\"<b>Link to the sequence</b> {} \".format(enaLink))"
   ]
  },
  {
   "cell_type": "markdown",
   "metadata": {},
   "source": [
    "<b>Using enasearch python library (which uses the BioPython SeqRecord data class) grab the sequence.<b>"
   ]
  },
  {
   "cell_type": "code",
   "execution_count": 96,
   "metadata": {},
   "outputs": [],
   "source": [
    "enaresult = enasearch.retrieve_data(\n",
    "        ids=\"FJ788436\",\n",
    "        download=None,\n",
    "        display=\"fasta\",\n",
    "        file=None,\n",
    "        offset=0,\n",
    "        header=None)"
   ]
  },
  {
   "cell_type": "code",
   "execution_count": 100,
   "metadata": {},
   "outputs": [
    {
     "name": "stdout",
     "output_type": "stream",
     "text": [
      "GGTTTATTGCAGAGGTTTGCGGACTTATTGANGTTGATTATTAAGTTTAAGATTGCTTTTTTTCAGGCGCGTAGGTGGCTGTCTTGGGGAGGGGTGCTTTTGTTAGTTTTCTTGTCTTGTAGGTATTGTCTTATTTTTGCTTTTTGTCAGAGGGGTCAGAGTAATCAGACTGTGCTGTTGTGGCTTTTGGTTATTACTAGTTTAACTGGTTATAGATTGCTTAGTGTTGGGTGAGGATCATATAATAAGTATGCTTTGGTGAGTTGTGTTCGGTCTGCGTTTGGCTCTATAAGGTTTGAGGCTGTTTTTATGTGTGTTGTTATTATGGTTGGGCTGCTGTGAGGGGGTTATTATTCTTTTCCCGGGGTTGAGCATTCTTGAATGTTGCTGTTGGTTTCACCGCTGTTGTATGCTGTTTGGCTTGTAGGTATACTTTGTGAGTGCAACCGAACTCCATTG\n"
     ]
    }
   ],
   "source": [
    "mysequence = enaresult[0].seq\n",
    "print(mysequence)"
   ]
  }
 ],
 "metadata": {
  "kernelspec": {
   "display_name": "Python 3",
   "language": "python",
   "name": "python3"
  },
  "language_info": {
   "codemirror_mode": {
    "name": "ipython",
    "version": 3
   },
   "file_extension": ".py",
   "mimetype": "text/x-python",
   "name": "python",
   "nbconvert_exporter": "python",
   "pygments_lexer": "ipython3",
   "version": "3.7.1"
  }
 },
 "nbformat": 4,
 "nbformat_minor": 2
}
